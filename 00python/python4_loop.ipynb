{
  "nbformat": 4,
  "nbformat_minor": 0,
  "metadata": {
    "colab": {
      "provenance": [],
      "include_colab_link": true
    },
    "kernelspec": {
      "name": "python3",
      "display_name": "Python 3"
    },
    "language_info": {
      "name": "python"
    }
  },
  "cells": [
    {
      "cell_type": "markdown",
      "metadata": {
        "id": "view-in-github",
        "colab_type": "text"
      },
      "source": [
        "<a href=\"https://colab.research.google.com/github/minatoyuichiro/graphcoloring/blob/master/00python/python4_loop.ipynb\" target=\"_parent\"><img src=\"https://colab.research.google.com/assets/colab-badge.svg\" alt=\"Open In Colab\"/></a>"
      ]
    },
    {
      "cell_type": "markdown",
      "source": [
        "## ループ\n",
        "ループを利用することで繰り返し決まった処理ができます。まず、リストを使ったループを書いてみます。ループの中の処理はインデントといって右にずらして書きます。\n"
      ],
      "metadata": {
        "id": "RvaqYb2JFhUX"
      }
    },
    {
      "cell_type": "code",
      "execution_count": null,
      "metadata": {
        "id": "Z0uhmJSMzMxX",
        "colab": {
          "base_uri": "https://localhost:8080/"
        },
        "outputId": "d4bc1103-e647-426b-b18c-db0246a35c81"
      },
      "outputs": [
        {
          "output_type": "stream",
          "name": "stdout",
          "text": [
            "0\n",
            "1\n",
            "2\n",
            "3\n",
            "4\n",
            "5\n"
          ]
        }
      ],
      "source": [
        "nums = [0,1,2,3,4,5]\n",
        "\n",
        "for num in nums:\n",
        "  print(num)"
      ]
    },
    {
      "cell_type": "markdown",
      "source": [
        "最初に変数を0にしてから、ループを使って合計値を出すことができます。"
      ],
      "metadata": {
        "id": "mzKaw2qsHNtO"
      }
    },
    {
      "cell_type": "code",
      "source": [
        "sum = 0\n",
        "for num in nums:\n",
        "  sum += num\n",
        "\n",
        "print(sum)"
      ],
      "metadata": {
        "colab": {
          "base_uri": "https://localhost:8080/"
        },
        "id": "ryC7dEEQHJlZ",
        "outputId": "c67a577d-0911-451a-ec36-cec14902ea30"
      },
      "execution_count": null,
      "outputs": [
        {
          "output_type": "stream",
          "name": "stdout",
          "text": [
            "15\n"
          ]
        }
      ]
    },
    {
      "cell_type": "markdown",
      "source": [
        "range()を利用することで範囲を決めて数字を利用できます。"
      ],
      "metadata": {
        "id": "n4lcPljHIi5-"
      }
    },
    {
      "cell_type": "code",
      "source": [
        "for i in range(5):\n",
        "  print(i)"
      ],
      "metadata": {
        "id": "Lbj2z4c7HX4L",
        "colab": {
          "base_uri": "https://localhost:8080/"
        },
        "outputId": "efc605b2-7fcc-4a0f-b798-8998e6123ada"
      },
      "execution_count": null,
      "outputs": [
        {
          "output_type": "stream",
          "name": "stdout",
          "text": [
            "0\n",
            "1\n",
            "2\n",
            "3\n",
            "4\n"
          ]
        }
      ]
    },
    {
      "cell_type": "markdown",
      "source": [
        "ループの中にループを書くこともできます。"
      ],
      "metadata": {
        "id": "W81RuBD6NT5s"
      }
    },
    {
      "cell_type": "code",
      "source": [
        "for i in range(2):\n",
        "  for j in range(2):\n",
        "    print(i,j)"
      ],
      "metadata": {
        "colab": {
          "base_uri": "https://localhost:8080/"
        },
        "id": "JtlG_Gm_NRh_",
        "outputId": "3b435e2b-7156-4759-c48b-e37c67fb2301"
      },
      "execution_count": null,
      "outputs": [
        {
          "output_type": "stream",
          "name": "stdout",
          "text": [
            "0 0\n",
            "0 1\n",
            "1 0\n",
            "1 1\n"
          ]
        }
      ]
    },
    {
      "cell_type": "markdown",
      "source": [
        "whileを使うと条件を満たす限りループを行います。"
      ],
      "metadata": {
        "id": "RjmrXxbzN5EM"
      }
    },
    {
      "cell_type": "code",
      "source": [
        "i = 0\n",
        "\n",
        "while i < 5:\n",
        "  print(i)\n",
        "  i += 1"
      ],
      "metadata": {
        "id": "5SXjMfHRN1hW",
        "colab": {
          "base_uri": "https://localhost:8080/"
        },
        "outputId": "d113f357-769c-4e2c-981e-e04cd8de9b96"
      },
      "execution_count": null,
      "outputs": [
        {
          "output_type": "stream",
          "name": "stdout",
          "text": [
            "0\n",
            "1\n",
            "2\n",
            "3\n",
            "4\n"
          ]
        }
      ]
    },
    {
      "cell_type": "markdown",
      "source": [
        "## リスト内包表記\n",
        "リスト内部でループ処理を利用することができます。下記は0から4までの整数を2乗した数をリストにしています。"
      ],
      "metadata": {
        "id": "jNomaJ3JOFq2"
      }
    },
    {
      "cell_type": "code",
      "source": [
        "nums = [i*i for i in range(5)]\n",
        "print(nums)"
      ],
      "metadata": {
        "id": "H3Llng6LOErk",
        "colab": {
          "base_uri": "https://localhost:8080/"
        },
        "outputId": "56f5da4b-ef97-41c6-97f8-d829bdb85797"
      },
      "execution_count": null,
      "outputs": [
        {
          "output_type": "stream",
          "name": "stdout",
          "text": [
            "[0, 1, 4, 9, 16]\n"
          ]
        }
      ]
    }
  ]
}